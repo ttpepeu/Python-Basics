{
 "cells": [
  {
   "cell_type": "code",
   "execution_count": 1,
   "id": "34a49060",
   "metadata": {},
   "outputs": [
    {
     "name": "stdout",
     "output_type": "stream",
     "text": [
      "Ciência de dados definida\n",
      "\n",
      "A ciência de dados combina vários campos, incluindo estatísticas, métodos científicos,\n",
      "inteligência artificial (IA) e análise de dados para extrair valor dos dados.\n",
      "Aqueles que praticam ciência de dados são chamados de cientistas de dados e combinam\n",
      "uma variedade de habilidades para analisar dados coletados da Web, de smartphones,\n",
      "clientes, sensores e outras fontes para obter insights acionáveis.\n",
      "\n",
      "A ciência de dados abrange a preparação de dados para análise, incluindo limpeza,\n",
      "agregação e manipulação dos dados para realizar análises avançadas de dados.\n",
      "As aplicações analíticas e os cientistas de dados podem revisar os resultados para\n",
      "descobrir padrões e permitir que os líderes de negócios obtenham insights informados.\n",
      "\n",
      "\n"
     ]
    }
   ],
   "source": [
    "with open('arquivo.txt', 'r') as arquivo:\n",
    "    texto = arquivo.read()\n",
    "    print(texto)"
   ]
  },
  {
   "cell_type": "code",
   "execution_count": 2,
   "id": "1a75537f",
   "metadata": {},
   "outputs": [],
   "source": [
    "with open('novo_arquivo.txt', 'w') as novo_arquivo:\n",
    "    novo_arquivo.write('Primeira linha escrita. \\n')\n",
    "    novo_arquivo.write('Segunda linha escrita. \\n')"
   ]
  },
  {
   "cell_type": "code",
   "execution_count": 3,
   "id": "bbfd7e30",
   "metadata": {},
   "outputs": [],
   "source": [
    "with open('novo_arquivo.txt','a') as novo_arquivo:\n",
    "    novo_arquivo.write('Terceira linha escrita. \\n')"
   ]
  },
  {
   "cell_type": "code",
   "execution_count": 4,
   "id": "905bfff1",
   "metadata": {},
   "outputs": [
    {
     "name": "stdout",
     "output_type": "stream",
     "text": [
      "Primeira linha escrita. \n",
      "Segunda linha escrita. \n",
      "Terceira linha escrita. \n",
      "\n"
     ]
    }
   ],
   "source": [
    "with open('novo_arquivo.txt','r') as novo_arquivo:\n",
    "    ler = novo_arquivo.read()\n",
    "    print(ler)"
   ]
  },
  {
   "cell_type": "code",
   "execution_count": null,
   "id": "260e0f88",
   "metadata": {},
   "outputs": [],
   "source": []
  }
 ],
 "metadata": {
  "kernelspec": {
   "display_name": "Python 3 (ipykernel)",
   "language": "python",
   "name": "python3"
  },
  "language_info": {
   "codemirror_mode": {
    "name": "ipython",
    "version": 3
   },
   "file_extension": ".py",
   "mimetype": "text/x-python",
   "name": "python",
   "nbconvert_exporter": "python",
   "pygments_lexer": "ipython3",
   "version": "3.9.12"
  }
 },
 "nbformat": 4,
 "nbformat_minor": 5
}
