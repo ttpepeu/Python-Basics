{
 "cells": [
  {
   "cell_type": "markdown",
   "id": "71647568",
   "metadata": {},
   "source": [
    " # Operadores Aritméticos "
   ]
  },
  {
   "cell_type": "code",
   "execution_count": 2,
   "id": "81f216df",
   "metadata": {},
   "outputs": [
    {
     "name": "stdout",
     "output_type": "stream",
     "text": [
      "52\n",
      "48\n",
      "100\n",
      "25.0\n",
      "25\n",
      "2\n",
      "2500\n"
     ]
    }
   ],
   "source": [
    "x = 50\n",
    "y = 2\n",
    "print(x+y) # Operador de Adição.\n",
    "print(x-y) # Operador de subtração.\n",
    "print(x*y) # Operador de Multiplicação.\n",
    "print(x/y) # Operador de Divisão.\n",
    "print(x//y) # Operador de Divisão inteira (Ignora os valores decimais).\n",
    "print(x&y)  # Operador de Módulo.\n",
    "print(x**y) # Operador de Exponenciação."
   ]
  },
  {
   "cell_type": "markdown",
   "id": "1a1b072f",
   "metadata": {},
   "source": [
    " # Operadores Lógicos"
   ]
  },
  {
   "cell_type": "code",
   "execution_count": 3,
   "id": "f82cb5b1",
   "metadata": {},
   "outputs": [
    {
     "name": "stdout",
     "output_type": "stream",
     "text": [
      "False\n",
      "True\n",
      "False\n"
     ]
    }
   ],
   "source": [
    "tem_cafe = True\n",
    "tem_leite = False\n",
    "print(not tem_cafe) # Com NOT o valor retorna ao contrário.\n",
    "print(tem_cafe or tem_leite) # Com OR se um pelo menos um valor for verdadeiro, retorna o valor de verdadeiro.\n",
    "print(tem_cafe and tem_leite) # Com AND só retorna o valor de verdadeiro se todos forem verdadeiros.\n"
   ]
  },
  {
   "cell_type": "markdown",
   "id": "4566f2f5",
   "metadata": {},
   "source": [
    " # Operadores de Comparação"
   ]
  },
  {
   "cell_type": "code",
   "execution_count": 4,
   "id": "0865705f",
   "metadata": {},
   "outputs": [
    {
     "name": "stdout",
     "output_type": "stream",
     "text": [
      "True\n",
      "False\n",
      "False\n",
      "True\n",
      "True\n",
      "False\n"
     ]
    }
   ],
   "source": [
    "dolar = 5.3\n",
    "real = 1\n",
    "print(dolar>real) # Comparando se o primeiro valor é maior que o segundo.\n",
    "print(dolar<real) # Comparando se o primeiro valor é menor que o segundo.\n",
    "print(dolar==real) # Comparando se o primeiro valor é igual que o segundo.\n",
    "print(dolar!=real) # Comparando se o primeiro valor é diferente que o segundo.\n",
    "print(dolar>=real) # Comparando se o primeiro valor é maior e igual que o segundo.\n",
    "print(dolar<=real) # Comparando se o primeiro valor é menor e igual que o segundo."
   ]
  }
 ],
 "metadata": {
  "kernelspec": {
   "display_name": "Python 3 (ipykernel)",
   "language": "python",
   "name": "python3"
  },
  "language_info": {
   "codemirror_mode": {
    "name": "ipython",
    "version": 3
   },
   "file_extension": ".py",
   "mimetype": "text/x-python",
   "name": "python",
   "nbconvert_exporter": "python",
   "pygments_lexer": "ipython3",
   "version": "3.9.12"
  }
 },
 "nbformat": 4,
 "nbformat_minor": 5
}
