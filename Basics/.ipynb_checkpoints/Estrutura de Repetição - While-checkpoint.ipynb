{
 "cells": [
  {
   "cell_type": "code",
   "execution_count": 1,
   "id": "222c771b",
   "metadata": {},
   "outputs": [
    {
     "name": "stdout",
     "output_type": "stream",
     "text": [
      "1 Item limpo\n",
      "2 Itens limpos\n",
      "3 Itens limpos\n",
      "4 Itens limpos\n",
      "5 Itens limpos\n",
      "6 Itens limpos\n",
      "7 Itens limpos\n",
      "8 Itens limpos\n",
      "9 Itens limpos\n",
      "10 Itens limpos\n",
      "Fim da repetição\n"
     ]
    }
   ],
   "source": [
    "contador = 0\n",
    "while contador < 10: # A função WHILE gera um loop até a condição for quebrada ou ser inválida.\n",
    "    contador += 1\n",
    "    if contador == 1:\n",
    "        print(contador, 'Item limpo')\n",
    "    else:\n",
    "        print(contador, 'Itens limpos')\n",
    "print('Fim da repetição')"
   ]
  },
  {
   "cell_type": "code",
   "execution_count": 2,
   "id": "53488ad3",
   "metadata": {},
   "outputs": [
    {
     "name": "stdout",
     "output_type": "stream",
     "text": [
      "1 Item limpo\n",
      "2 Itens limpos\n",
      "3 Itens limpos\n",
      "4 Itens limpos\n",
      "5 Itens limpos\n",
      "6 Itens limpos\n",
      "7 Itens limpos\n",
      "8 Itens limpos\n",
      "9 Itens limpos\n",
      "10 Itens limpos\n",
      "Fim da repetição\n"
     ]
    }
   ],
   "source": [
    "contador = 0\n",
    "while True: # A união das funções WHILE e TRUE gera um loop infinito até que essas condições sejam quebradas.\n",
    "    if contador < 10:\n",
    "        contador += 1\n",
    "        if contador == 1:\n",
    "            print(contador, 'Item limpo')\n",
    "        else:\n",
    "            print(contador,'Itens limpos')\n",
    "    else:\n",
    "        break # A função BREAK quebra o bloco.\n",
    "print('Fim da repetição')"
   ]
  },
  {
   "cell_type": "code",
   "execution_count": 3,
   "id": "d479b354",
   "metadata": {},
   "outputs": [
    {
     "name": "stdout",
     "output_type": "stream",
     "text": [
      "Digite a senha:4\n",
      "Senha inválida, tente novamente:letscode\n",
      "Senha inválida, tente novamente:LetsCode\n",
      "Acesso permetido\n"
     ]
    }
   ],
   "source": [
    "senha = input('Digite a senha:')\n",
    "\n",
    "while senha != 'LetsCode':\n",
    "    senha = input('Senha inválida, tente novamente:')\n",
    "else:\n",
    "    print('Acesso permetido')"
   ]
  },
  {
   "cell_type": "code",
   "execution_count": 4,
   "id": "4caf1fcf",
   "metadata": {},
   "outputs": [
    {
     "name": "stdout",
     "output_type": "stream",
     "text": [
      "2 Itens limpos\n",
      "3 Itens limpos\n",
      "4 Itens limpos\n",
      "5 Itens limpos\n",
      "6 Itens limpos\n",
      "7 Itens limpos\n",
      "8 Itens limpos\n",
      "9 Itens limpos\n",
      "10 Itens limpos\n",
      "Fim da repetição\n"
     ]
    }
   ],
   "source": [
    "contador = 0\n",
    "while contador < 10: # A função WHILE gera um loop até a condição for quebrada ou ser inválida.\n",
    "    contador += 1\n",
    "    if contador == 1:\n",
    "        continue # A função CONTINUE pula a execução do valor selecionado como verdadeiro.\n",
    "    print(contador, 'Itens limpos')\n",
    "print('Fim da repetição')"
   ]
  }
 ],
 "metadata": {
  "kernelspec": {
   "display_name": "Python 3 (ipykernel)",
   "language": "python",
   "name": "python3"
  },
  "language_info": {
   "codemirror_mode": {
    "name": "ipython",
    "version": 3
   },
   "file_extension": ".py",
   "mimetype": "text/x-python",
   "name": "python",
   "nbconvert_exporter": "python",
   "pygments_lexer": "ipython3",
   "version": "3.9.12"
  }
 },
 "nbformat": 4,
 "nbformat_minor": 5
}
