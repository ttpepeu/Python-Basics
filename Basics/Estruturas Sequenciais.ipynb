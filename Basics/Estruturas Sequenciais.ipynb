{
 "cells": [
  {
   "cell_type": "code",
   "execution_count": 1,
   "id": "8a408129",
   "metadata": {},
   "outputs": [
    {
     "name": "stdout",
     "output_type": "stream",
     "text": [
      "Type a you age: 2\n",
      "2 <class 'str'>\n"
     ]
    }
   ],
   "source": [
    "# Para entrada de dados do usuário conhecida como I/O utilizamos a função INPUT que sempre retorna uma valor de String. \n",
    "age = input('Type a you age: ')\n",
    "print(age, type(age))"
   ]
  },
  {
   "cell_type": "code",
   "execution_count": 9,
   "id": "b34c97aa",
   "metadata": {},
   "outputs": [
    {
     "name": "stdout",
     "output_type": "stream",
     "text": [
      "123.8 <class 'float'>\n",
      "12 <class 'int'>\n",
      "True <class 'bool'>\n",
      "False <class 'bool'>\n"
     ]
    }
   ],
   "source": [
    "# Casting\n",
    "x = float('123.8')\n",
    "y = int('12')\n",
    "z = bool('Há um valor')\n",
    "c = bool('')\n",
    "\n",
    "print(x, type(x))\n",
    "print(y, type(y))\n",
    "print(z, type(z))\n",
    "print(c, type(c))"
   ]
  },
  {
   "cell_type": "code",
   "execution_count": 11,
   "id": "6f93690c",
   "metadata": {},
   "outputs": [
    {
     "name": "stdout",
     "output_type": "stream",
     "text": [
      "Type your salary: 5000\n",
      "Type your spend: 2000\n",
      "36000.0\n"
     ]
    }
   ],
   "source": [
    "salario_mensal = input('Type your salary: ')\n",
    "salario_mensal = float(salario_mensal)\n",
    "\n",
    "gasto_mensal = input('Type your spend: ')\n",
    "gasto_mensal = float(gasto_mensal)\n",
    "\n",
    "salario_mensal *= 12\n",
    "gasto_mensal *= 12\n",
    "\n",
    "montante_economico = salario_mensal - gasto_mensal\n",
    "print(montante_economico)"
   ]
  },
  {
   "cell_type": "code",
   "execution_count": null,
   "id": "e64181f3",
   "metadata": {},
   "outputs": [],
   "source": []
  }
 ],
 "metadata": {
  "kernelspec": {
   "display_name": "Python 3 (ipykernel)",
   "language": "python",
   "name": "python3"
  },
  "language_info": {
   "codemirror_mode": {
    "name": "ipython",
    "version": 3
   },
   "file_extension": ".py",
   "mimetype": "text/x-python",
   "name": "python",
   "nbconvert_exporter": "python",
   "pygments_lexer": "ipython3",
   "version": "3.9.12"
  }
 },
 "nbformat": 4,
 "nbformat_minor": 5
}
