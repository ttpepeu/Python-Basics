{
 "cells": [
  {
   "cell_type": "code",
   "execution_count": 13,
   "id": "12dc3736",
   "metadata": {
    "scrolled": true
   },
   "outputs": [
    {
     "name": "stdout",
     "output_type": "stream",
     "text": [
      "Type the price of trip: 25\n",
      "Wait some!!!\n"
     ]
    }
   ],
   "source": [
    "valor_passagem = 4.80\n",
    "valor_corrida = input('Type the price of trip: ')\n",
    "\n",
    "# A Utilização das funções IF, ELIF e ELSE é para determinar qual linha do script será executado.\n",
    "\n",
    "if float(valor_corrida) <= valor_passagem * 5: # Se o operadoror de comparação for verdadeiro confirme essa linha.\n",
    "    print('Take the taxi!!!')\n",
    "elif float(valor_corrida) <= valor_passagem *6: # Se o operadoror de comparação for verdadeiro execute essa linha.\n",
    "    print('Wait some!!!')\n",
    "else:\n",
    "    print('Take the bus!!!') # Se nenhum operadoror de comparação for verdadeiro execute essa linha."
   ]
  }
 ],
 "metadata": {
  "kernelspec": {
   "display_name": "Python 3 (ipykernel)",
   "language": "python",
   "name": "python3"
  },
  "language_info": {
   "codemirror_mode": {
    "name": "ipython",
    "version": 3
   },
   "file_extension": ".py",
   "mimetype": "text/x-python",
   "name": "python",
   "nbconvert_exporter": "python",
   "pygments_lexer": "ipython3",
   "version": "3.9.12"
  }
 },
 "nbformat": 4,
 "nbformat_minor": 5
}
