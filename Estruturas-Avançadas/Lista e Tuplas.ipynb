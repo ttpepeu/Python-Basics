{
 "cells": [
  {
   "cell_type": "code",
   "execution_count": 1,
   "id": "aa216c25",
   "metadata": {},
   "outputs": [
    {
     "name": "stdout",
     "output_type": "stream",
     "text": [
      "<class 'list'> 4\n"
     ]
    }
   ],
   "source": [
    "# O utilizo dos COLCHETES é para criar uma lista onde podemos armazenar varios valores\n",
    "nomes_paises = ['Brazil','Germany','Spain','Turkey']\n",
    "print(type(nomes_paises), len(nomes_paises))"
   ]
  },
  {
   "cell_type": "code",
   "execution_count": 2,
   "id": "5e5c657b",
   "metadata": {},
   "outputs": [
    {
     "name": "stdout",
     "output_type": "stream",
     "text": [
      "['Brazil', 'Germany', 'USA', 'Turkey']\n"
     ]
    }
   ],
   "source": [
    "nomes_paises[2] = \"USA\"\n",
    "print(nomes_paises)"
   ]
  },
  {
   "cell_type": "code",
   "execution_count": 3,
   "id": "d0936450",
   "metadata": {},
   "outputs": [
    {
     "name": "stdout",
     "output_type": "stream",
     "text": [
      "['Brazil', 'Germany', 'USA', 'Turkey']\n",
      "['Brazil', 'Germany', 'USA', 'Turkey']\n",
      "['Turkey', 'USA', 'Germany', 'Brazil']\n",
      "['Brazil', 'USA']\n",
      "['Brazil']\n",
      "['USA', 'Turkey']\n"
     ]
    }
   ],
   "source": [
    "print(nomes_paises)\n",
    "print(nomes_paises[:])\n",
    "print(nomes_paises[::-1])\n",
    "print(nomes_paises[::2])\n",
    "print(nomes_paises[:1])\n",
    "print(nomes_paises[2:])"
   ]
  },
  {
   "cell_type": "code",
   "execution_count": 4,
   "id": "d524709b",
   "metadata": {},
   "outputs": [
    {
     "name": "stdout",
     "output_type": "stream",
     "text": [
      "True\n",
      "False\n"
     ]
    }
   ],
   "source": [
    "print('Brazil' in nomes_paises)\n",
    "print('Brazil' not in nomes_paises)"
   ]
  },
  {
   "cell_type": "code",
   "execution_count": 5,
   "id": "41452890",
   "metadata": {},
   "outputs": [
    {
     "name": "stdout",
     "output_type": "stream",
     "text": [
      "['Sao Paulo', 'Rio de Janeiro', 'Campinas', 'Sorocaba', 'Sumare']\n"
     ]
    }
   ],
   "source": [
    "lista_estados = ['Sao Paulo','Rio de Janeiro','Campinas','Sorocaba']\n",
    "lista_estados.append('Sumare') # A função APPEND adiciona um valor no ultimo index.\n",
    "print(lista_estados)"
   ]
  },
  {
   "cell_type": "code",
   "execution_count": 6,
   "id": "75d1007c",
   "metadata": {},
   "outputs": [
    {
     "name": "stdout",
     "output_type": "stream",
     "text": [
      "['Sao Paulo', 'Hortolandia', 'Rio de Janeiro', 'Campinas', 'Sorocaba', 'Sumare']\n"
     ]
    }
   ],
   "source": [
    "lista_estados.insert(1,'Hortolandia') # A função INSERT podemos selecionar onde vamos adicionar o valor.\n",
    "print(lista_estados)"
   ]
  },
  {
   "cell_type": "code",
   "execution_count": 7,
   "id": "112b87e1",
   "metadata": {},
   "outputs": [
    {
     "name": "stdout",
     "output_type": "stream",
     "text": [
      "Rio de Janeiro\n",
      "['Sao Paulo', 'Hortolandia', 'Campinas', 'Sorocaba', 'Sumare']\n"
     ]
    }
   ],
   "source": [
    "removido = lista_estados.pop(2) # A função POP remove o valor selecionado pelo INDEX e retornar o valor removido\n",
    "print(lista_estados, removido)"
   ]
  },
  {
   "cell_type": "code",
   "execution_count": 8,
   "id": "e5ff4ef4",
   "metadata": {},
   "outputs": [
    {
     "name": "stdout",
     "output_type": "stream",
     "text": [
      "['Sao Paulo', 'Hortolandia', 'Campinas', 'Sumare']\n"
     ]
    }
   ],
   "source": [
    "lista_estados.remove('Sorocaba') # A função REMOVE podemos remover o valor escrito.\n",
    "print(lista_estados)"
   ]
  },
  {
   "cell_type": "code",
   "execution_count": 9,
   "id": "dbc32713",
   "metadata": {},
   "outputs": [
    {
     "name": "stdout",
     "output_type": "stream",
     "text": [
      "('Americas', 'Europe', 'Asia')\n"
     ]
    }
   ],
   "source": [
    "lista_continentes = ('Americas', 'Europe', 'Asia') # São lista onde valor não pode ser alterado\n",
    "print(lista_continentes)"
   ]
  },
  {
   "cell_type": "code",
   "execution_count": 12,
   "id": "7026b7a1",
   "metadata": {},
   "outputs": [
    {
     "name": "stdout",
     "output_type": "stream",
     "text": [
      "Americas Europe\n"
     ]
    }
   ],
   "source": [
    "a,b,c= lista_continentes\n",
    "print(a,b)"
   ]
  }
 ],
 "metadata": {
  "kernelspec": {
   "display_name": "Python 3 (ipykernel)",
   "language": "python",
   "name": "python3"
  },
  "language_info": {
   "codemirror_mode": {
    "name": "ipython",
    "version": 3
   },
   "file_extension": ".py",
   "mimetype": "text/x-python",
   "name": "python",
   "nbconvert_exporter": "python",
   "pygments_lexer": "ipython3",
   "version": "3.9.12"
  }
 },
 "nbformat": 4,
 "nbformat_minor": 5
}
