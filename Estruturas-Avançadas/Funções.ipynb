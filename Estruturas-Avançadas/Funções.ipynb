{
 "cells": [
  {
   "cell_type": "code",
   "execution_count": 1,
   "id": "b5b2987f",
   "metadata": {},
   "outputs": [
    {
     "name": "stdout",
     "output_type": "stream",
     "text": [
      "Hello World\n"
     ]
    }
   ],
   "source": [
    "def hello():\n",
    "    print('Hello World')\n",
    "hello()"
   ]
  },
  {
   "cell_type": "code",
   "execution_count": 2,
   "id": "c96c156b",
   "metadata": {},
   "outputs": [
    {
     "name": "stdout",
     "output_type": "stream",
     "text": [
      "40.333333333333336\n"
     ]
    }
   ],
   "source": [
    "def media(x,y,z):\n",
    "    media = (x + y + z) / 3\n",
    "    return media\n",
    "print(media(15,17,89))"
   ]
  },
  {
   "cell_type": "code",
   "execution_count": 3,
   "id": "34e6bc42",
   "metadata": {},
   "outputs": [
    {
     "name": "stdout",
     "output_type": "stream",
     "text": [
      "Olá, Pedro\n"
     ]
    }
   ],
   "source": [
    "print('Olá,', end=' ')\n",
    "print('Pedro')"
   ]
  },
  {
   "cell_type": "code",
   "execution_count": 4,
   "id": "b5cb26a9",
   "metadata": {},
   "outputs": [
    {
     "name": "stdout",
     "output_type": "stream",
     "text": [
      "40.333333333333336\n"
     ]
    }
   ],
   "source": [
    "def calcula_media(x=0,y=0,z=0):\n",
    "    media = (x + y + z) / 3\n",
    "    return media\n",
    "print(media(15,17,89))"
   ]
  },
  {
   "cell_type": "code",
   "execution_count": 5,
   "id": "13e2194c",
   "metadata": {},
   "outputs": [
    {
     "name": "stdout",
     "output_type": "stream",
     "text": [
      "40.333333333333336\n"
     ]
    }
   ],
   "source": [
    "def media(*args):\n",
    "    media = sum(args) / 3\n",
    "    return media\n",
    "print(media(15,17,89))"
   ]
  },
  {
   "cell_type": "code",
   "execution_count": 6,
   "id": "851c74cc",
   "metadata": {},
   "outputs": [
    {
     "name": "stdout",
     "output_type": "stream",
     "text": [
      "40.333333333333336\n"
     ]
    }
   ],
   "source": [
    "def media(*args, margem):\n",
    "    media = sum(args) / 3\n",
    "    return media + margem\n",
    "print(media(15,17,89, margem = 0))"
   ]
  },
  {
   "cell_type": "code",
   "execution_count": 7,
   "id": "a971eb50",
   "metadata": {},
   "outputs": [
    {
     "name": "stdout",
     "output_type": "stream",
     "text": [
      "{'nome': 'Pedro', 'sobrenome': 'Trindade'}\n"
     ]
    }
   ],
   "source": [
    "def print_info(**kwargs):\n",
    "    print(kwargs)\n",
    "print_info(nome = 'Pedro', sobrenome = 'Trindade')"
   ]
  },
  {
   "cell_type": "code",
   "execution_count": null,
   "id": "7a1e30e1",
   "metadata": {},
   "outputs": [],
   "source": []
  }
 ],
 "metadata": {
  "kernelspec": {
   "display_name": "Python 3 (ipykernel)",
   "language": "python",
   "name": "python3"
  },
  "language_info": {
   "codemirror_mode": {
    "name": "ipython",
    "version": 3
   },
   "file_extension": ".py",
   "mimetype": "text/x-python",
   "name": "python",
   "nbconvert_exporter": "python",
   "pygments_lexer": "ipython3",
   "version": "3.9.12"
  }
 },
 "nbformat": 4,
 "nbformat_minor": 5
}
