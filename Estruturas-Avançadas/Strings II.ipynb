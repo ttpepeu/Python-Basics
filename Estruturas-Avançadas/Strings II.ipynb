{
 "cells": [
  {
   "cell_type": "code",
   "execution_count": 1,
   "id": "8ae88c91",
   "metadata": {},
   "outputs": [
    {
     "name": "stdout",
     "output_type": "stream",
     "text": [
      "O nome é Felipe\n"
     ]
    }
   ],
   "source": [
    "nome = 'Felipe'\n",
    "print('O nome é '+nome)"
   ]
  },
  {
   "cell_type": "code",
   "execution_count": 2,
   "id": "4baa30b5",
   "metadata": {},
   "outputs": [
    {
     "name": "stdout",
     "output_type": "stream",
     "text": [
      "FelipeFelipeFelipeFelipeFelipe\n"
     ]
    }
   ],
   "source": [
    "print(nome*5)"
   ]
  },
  {
   "cell_type": "code",
   "execution_count": 3,
   "id": "89eba5a2",
   "metadata": {},
   "outputs": [
    {
     "name": "stdout",
     "output_type": "stream",
     "text": [
      "Pedro tem 21 e 1.78 de altura\n",
      "Pedro tem 21 e 1.78 de altura\n",
      "Pedro tem 21 e 1.78 de altura\n"
     ]
    }
   ],
   "source": [
    "nome = 'Pedro'\n",
    "idade = 21\n",
    "altura = 1.78\n",
    "\n",
    "print(nome + ' tem ' + str(idade) + ' e ' + str(altura) + ' de altura')\n",
    "print('{} tem {} e {} de altura'.format(nome,idade,altura))\n",
    "print(f'{nome} tem {idade} e {altura} de altura')"
   ]
  },
  {
   "cell_type": "code",
   "execution_count": 4,
   "id": "7c081dc2",
   "metadata": {},
   "outputs": [
    {
     "name": "stdout",
     "output_type": "stream",
     "text": [
      "Preço da gasolina: 2.99\n"
     ]
    }
   ],
   "source": [
    "preco_gasolina = 2.9887585\n",
    "print(f'Preço da gasolina: {preco_gasolina:.2f}')"
   ]
  },
  {
   "cell_type": "code",
   "execution_count": null,
   "id": "247e4247",
   "metadata": {},
   "outputs": [],
   "source": []
  }
 ],
 "metadata": {
  "kernelspec": {
   "display_name": "Python 3 (ipykernel)",
   "language": "python",
   "name": "python3"
  },
  "language_info": {
   "codemirror_mode": {
    "name": "ipython",
    "version": 3
   },
   "file_extension": ".py",
   "mimetype": "text/x-python",
   "name": "python",
   "nbconvert_exporter": "python",
   "pygments_lexer": "ipython3",
   "version": "3.9.12"
  }
 },
 "nbformat": 4,
 "nbformat_minor": 5
}
