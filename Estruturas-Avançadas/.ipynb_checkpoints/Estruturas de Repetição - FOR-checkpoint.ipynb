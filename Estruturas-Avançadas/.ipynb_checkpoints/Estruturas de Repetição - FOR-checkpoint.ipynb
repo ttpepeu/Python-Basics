{
 "cells": [
  {
   "cell_type": "code",
   "execution_count": 1,
   "id": "628bea47",
   "metadata": {},
   "outputs": [
    {
     "name": "stdout",
     "output_type": "stream",
     "text": [
      "São Paulo\n",
      "Tóquio\n",
      "Londres\n",
      "Nova Iorque\n"
     ]
    }
   ],
   "source": [
    "cidades = ['São Paulo', 'Tóquio', 'Londres', 'Nova Iorque']\n",
    "for i in cidades:\n",
    "    print(i)"
   ]
  },
  {
   "cell_type": "code",
   "execution_count": 2,
   "id": "5e3b99b1",
   "metadata": {},
   "outputs": [
    {
     "name": "stdout",
     "output_type": "stream",
     "text": [
      "São Paulo\n",
      "Tóquio\n",
      "Londres\n",
      "Nova Iorque\n"
     ]
    }
   ],
   "source": [
    "cidades2 = ('São Paulo', 'Tóquio', 'Londres', 'Nova Iorque')\n",
    "for i in cidades2:\n",
    "    print(i)"
   ]
  },
  {
   "cell_type": "code",
   "execution_count": 3,
   "id": "2c4e6360",
   "metadata": {},
   "outputs": [
    {
     "name": "stdout",
     "output_type": "stream",
     "text": [
      "Cidade: São Paulo\n",
      "Estado: São Paulo\n",
      "País: Brasil\n"
     ]
    }
   ],
   "source": [
    "cidades3 = {\n",
    "    'Cidade': 'São Paulo',\n",
    "    'Estado': 'São Paulo',\n",
    "    'País': 'Brasil'\n",
    "}\n",
    "for i in cidades3:\n",
    "    print(f'{i}: {cidades3[i]}')"
   ]
  },
  {
   "cell_type": "code",
   "execution_count": 4,
   "id": "fd1dd6d8",
   "metadata": {},
   "outputs": [
    {
     "name": "stdout",
     "output_type": "stream",
     "text": [
      "Rio de Janeiro\n",
      "Rio de Janeiro\n",
      "Rio de Janeiro\n",
      "Rio de Janeiro\n"
     ]
    }
   ],
   "source": [
    "for i in range(len(cidades)):\n",
    "    cidades[i] = cidades[i] = 'Rio de Janeiro'\n",
    "    print(cidades[i])"
   ]
  },
  {
   "cell_type": "code",
   "execution_count": null,
   "id": "494ff304",
   "metadata": {},
   "outputs": [],
   "source": []
  }
 ],
 "metadata": {
  "kernelspec": {
   "display_name": "Python 3 (ipykernel)",
   "language": "python",
   "name": "python3"
  },
  "language_info": {
   "codemirror_mode": {
    "name": "ipython",
    "version": 3
   },
   "file_extension": ".py",
   "mimetype": "text/x-python",
   "name": "python",
   "nbconvert_exporter": "python",
   "pygments_lexer": "ipython3",
   "version": "3.9.12"
  }
 },
 "nbformat": 4,
 "nbformat_minor": 5
}
