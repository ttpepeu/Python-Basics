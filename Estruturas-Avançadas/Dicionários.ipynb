{
 "cells": [
  {
   "cell_type": "code",
   "execution_count": 1,
   "id": "ae203b14",
   "metadata": {},
   "outputs": [],
   "source": [
    "dados_cidades = {\n",
    "    'Nome':'São Paulo',\n",
    "    'Estados':'São Paulo',\n",
    "    'País':'Brasil',\n",
    "    'População_milhões':12.33\n",
    "}\n"
   ]
  },
  {
   "cell_type": "code",
   "execution_count": 2,
   "id": "e4c8f3b1",
   "metadata": {},
   "outputs": [
    {
     "name": "stdout",
     "output_type": "stream",
     "text": [
      "{'Nome': 'São Paulo', 'Estados': 'São Paulo', 'País': 'Brasil', 'População_milhões': 12.33}\n",
      "12.33\n"
     ]
    }
   ],
   "source": [
    "print(dados_cidades)\n",
    "print(dados_cidades['População_milhões'])"
   ]
  },
  {
   "cell_type": "code",
   "execution_count": 3,
   "id": "d6357d66",
   "metadata": {},
   "outputs": [
    {
     "name": "stdout",
     "output_type": "stream",
     "text": [
      "{'Nome': 'São Paulo', 'Estados': 'São Paulo', 'País': 'Brasil', 'População_milhões': 12.33}\n",
      "{'Nome': 'Campinas', 'Estados': 'São Paulo', 'País': 'Brasil', 'População_milhões': 12.33}\n"
     ]
    }
   ],
   "source": [
    "dados_cidades2 = dados_cidades.copy() # Método COPY serve para clonar um dicionário.\n",
    "dados_cidades2['Nome'] = 'Campinas'\n",
    "print(dados_cidades)\n",
    "print(dados_cidades2)"
   ]
  },
  {
   "cell_type": "code",
   "execution_count": 4,
   "id": "9a3c3cdb",
   "metadata": {},
   "outputs": [
    {
     "name": "stdout",
     "output_type": "stream",
     "text": [
      "{'Nome': 'Campinas', 'Estados': 'São Paulo', 'País': 'Brasil', 'População_milhões': 1, 'Ano da Fundação': 1774}\n"
     ]
    }
   ],
   "source": [
    "novos_dados = {\n",
    "    'População_milhões': 1,\n",
    "    'Ano da Fundação':1774\n",
    "}\n",
    "\n",
    "dados_cidades2.update(novos_dados) # Método UPDATE serve para atualizar um dicionário.\n",
    "\n",
    "print(dados_cidades2)"
   ]
  },
  {
   "cell_type": "code",
   "execution_count": 5,
   "id": "9aa00577",
   "metadata": {},
   "outputs": [
    {
     "name": "stdout",
     "output_type": "stream",
     "text": [
      "None\n"
     ]
    }
   ],
   "source": [
    "print(dados_cidades2.get('prefeito')) # Método GET serve para consultar alguma KEY dentro de um dicionário."
   ]
  },
  {
   "cell_type": "code",
   "execution_count": 6,
   "id": "acd0a111",
   "metadata": {},
   "outputs": [
    {
     "name": "stdout",
     "output_type": "stream",
     "text": [
      "dict_keys(['Nome', 'Estados', 'País', 'População_milhões'])\n",
      "dict_values(['São Paulo', 'São Paulo', 'Brasil', 12.33])\n",
      "dict_items([('Nome', 'São Paulo'), ('Estados', 'São Paulo'), ('País', 'Brasil'), ('População_milhões', 12.33)])\n"
     ]
    }
   ],
   "source": [
    "print(dados_cidades.keys()) # Método KEYS serve para mostrar as chaves do dicionário.\n",
    "print(dados_cidades.values()) # Método VALUES serve para mostrar os valores do dicionário.\n",
    "print(dados_cidades.items()) # Método ITEMS serve para mostrar os intens do dicionário."
   ]
  },
  {
   "cell_type": "code",
   "execution_count": 7,
   "id": "124c5cf2",
   "metadata": {},
   "outputs": [
    {
     "name": "stdout",
     "output_type": "stream",
     "text": [
      "[0, 1, 2, 3, 4, 5, 6, 7, 8, 9]\n",
      "[0, 2, 4, 6, 8]\n",
      "[0, 1, 2, 3, 4, 5, 6, 7, 8, 9]\n"
     ]
    }
   ],
   "source": [
    "print(list(range(0,10)))\n",
    "print(list(range(0,10,2)))\n",
    "print(list(range(0,10)))"
   ]
  },
  {
   "cell_type": "code",
   "execution_count": null,
   "id": "a22d27c1",
   "metadata": {},
   "outputs": [],
   "source": []
  }
 ],
 "metadata": {
  "kernelspec": {
   "display_name": "Python 3 (ipykernel)",
   "language": "python",
   "name": "python3"
  },
  "language_info": {
   "codemirror_mode": {
    "name": "ipython",
    "version": 3
   },
   "file_extension": ".py",
   "mimetype": "text/x-python",
   "name": "python",
   "nbconvert_exporter": "python",
   "pygments_lexer": "ipython3",
   "version": "3.9.12"
  }
 },
 "nbformat": 4,
 "nbformat_minor": 5
}
